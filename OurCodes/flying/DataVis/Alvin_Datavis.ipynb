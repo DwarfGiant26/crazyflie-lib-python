{
 "cells": [
  {
   "cell_type": "code",
   "execution_count": 1,
   "metadata": {},
   "outputs": [],
   "source": [
    "import pandas as pd\n",
    "import matplotlib.pyplot as plt"
   ]
  },
  {
   "cell_type": "code",
   "execution_count": 2,
   "metadata": {},
   "outputs": [],
   "source": [
    "# load all data\n",
    "\n",
    "import os]\n",
    "os.chdir(\"..\")\n",
    "# key = path\n",
    "data = {}\n",
    "for root in [\"new_1Intermediate\",\"new_2Intermediate\"]:\n",
    "    for path_no in os.listdir(root):\n",
    "        for wind_speed in os.listdir(os.path.join(root,path_no)):\n",
    "            for wind_angle in os.listdir(os.path.join(root,path_no,wind_speed)):\n",
    "                for drone in os.listdir(os.path.join(root,path_no,wind_speed,wind_angle)):\n",
    "                    csv_path = os.path.join(root,path_no,wind_speed,wind_angle,drone)\n",
    "                    data[csv_path] = pd.read_csv(csv_path)\n",
    "\n"
   ]
  },
  {
   "cell_type": "code",
   "execution_count": 3,
   "metadata": {},
   "outputs": [],
   "source": [
    "# problem: the last drone might not stabilize its voltage before the logging end.\n",
    "# potential solution: we can just take the 2 highest voltage instead."
   ]
  },
  {
   "cell_type": "code",
   "execution_count": 4,
   "metadata": {},
   "outputs": [],
   "source": [
    "def iterate_all_data(todo):\n",
    "    for root in [\"new_1Intermediate\",\"new_2Intermediate\"]:\n",
    "        for path_no in os.listdir(root):\n",
    "            for wind_speed in os.listdir(os.path.join(root,path_no)):\n",
    "                for wind_angle in os.listdir(os.path.join(root,path_no,wind_speed)):\n",
    "                    for drone in os.listdir(os.path.join(root,path_no,wind_speed,wind_angle)):\n",
    "                        csv_path = os.path.join(root,path_no,wind_speed,wind_angle,drone)\n",
    "                        todo(csv_path)"
   ]
  },
  {
   "cell_type": "code",
   "execution_count": 5,
   "metadata": {},
   "outputs": [],
   "source": [
    "# idea 5\n",
    "# show how lower starting battery affect the charging time\n",
    "from statistics import mean\n",
    "# for each flights\n",
    "# take the first voltage, take the middle number in waiting time, take the average of first voltage, and take the total charging time across all drones in the same flight\n",
    "def first_vol_vs_charging_time(root):\n",
    "    first_voltage_avgs = []\n",
    "    charging_time_totals = []\n",
    "\n",
    "    for path_no in os.listdir(root):\n",
    "        for wind_speed in os.listdir(os.path.join(root,path_no)):\n",
    "            for wind_angle in os.listdir(os.path.join(root,path_no,wind_speed)):\n",
    "                first_voltage = []\n",
    "                charging_time = []\n",
    "                for drone in os.listdir(os.path.join(root,path_no,wind_speed,wind_angle)):\n",
    "                    csv_path = os.path.join(root,path_no,wind_speed,wind_angle,drone)\n",
    "                    first_voltage.append(data[csv_path][\"pm.vbat\"].iloc[0])\n",
    "                    if root == \"new_2Intermediate\":\n",
    "                        charging_time.append((int(data[csv_path][\"waiting_time\"].iloc[-1].split('|')[1]),int(data[csv_path][\"waiting_time\"].iloc[-1].split('|')[2])))\n",
    "                    else:\n",
    "                        charging_time.append(int(data[csv_path][\"waiting_time\"].iloc[-1].split('|')[1]))\n",
    "                first_voltage_avgs.append(mean(first_voltage))\n",
    "                if root == \"new_2Intermediate\":\n",
    "                    totals_each_charger = [0,0]\n",
    "                    for a in charging_time:\n",
    "                        totals_each_charger[0] += a[0]\n",
    "                        totals_each_charger[1] += a[1]\n",
    "                    charging_time_totals.append(mean(totals_each_charger)/1000)\n",
    "                else:\n",
    "                    charging_time_totals.append(sum(charging_time)/1000)\n",
    "    return (first_voltage_avgs,charging_time_totals)                 \n",
    "                    "
   ]
  },
  {
   "cell_type": "code",
   "execution_count": 6,
   "metadata": {},
   "outputs": [
    {
     "data": {
      "image/png": "[encoded data removed]",
      "text/plain": [
       "<Figure size 432x288 with 1 Axes>"
      ]
     },
     "metadata": {
      "needs_background": "light"
     },
     "output_type": "display_data"
    }
   ],
   "source": [
    "# total charging time in a flight for a given average initial voltage across all drone(in flights with 1 intermediate)\n",
    "first_voltage_avgs,charging_time_totals = first_vol_vs_charging_time(\"new_1Intermediate\")\n",
    "plt.scatter(first_voltage_avgs,charging_time_totals)\n",
    "plt.xlabel(\"Initial Voltage(V)\")\n",
    "plt.ylabel(\"Total Charging Time(s)\")\n",
    "plt.show()"
   ]
  },
  {
   "cell_type": "code",
   "execution_count": 7,
   "metadata": {},
   "outputs": [
    {
     "data": {
      "image/png": "[encoded data removed]",
      "text/plain": [
       "<Figure size 432x288 with 1 Axes>"
      ]
     },
     "metadata": {
      "needs_background": "light"
     },
     "output_type": "display_data"
    }
   ],
   "source": [
    "# average total charging time in each charger during a flight for a given initial voltage\n",
    "first_voltage_avgs,charging_time_totals = first_vol_vs_charging_time(\"new_2Intermediate\")\n",
    "plt.scatter(first_voltage_avgs,charging_time_totals)\n",
    "plt.xlabel(\"Initial Voltage(V)\")\n",
    "plt.ylabel(\"Total Charging Time(s)\")\n",
    "plt.show()"
   ]
  },
  {
   "cell_type": "code",
   "execution_count": 8,
   "metadata": {},
   "outputs": [],
   "source": [
    "# idea 1\n",
    "# convert voltage to percentage\n",
    "# calculate changes in percentage for different height across the data\n",
    "\n",
    "# problem: this is probably showing different percentage drop because drone that are low and just start flying will have its voltage drop by a lot which \n",
    "# can be seen as huge drop in percentage when it is not really the case.\n",
    "\n",
    "# potential solution:\n",
    "# we only take the voltage after it is flying for long enough and not taking the voltage that is towards the end of the flight where it goes up by a lot.\n",
    "\n",
    "# problem on potential solution:\n",
    "# the time that we observe will be really short, and even then it is usually not very stable.\n",
    "\n",
    "\n",
    "# idea 2\n",
    "# total travel distance vs battery percentage drop(calculated using percentage early - percentage in the end\n",
    "\n",
    "# idea 3 \n",
    "# wind speed vs battery percentage/voltage drop\n",
    "\n",
    "# idea 4\n",
    "# wind direction vs battery percentage/voltage drop\n",
    "\n",
    "# idea 6\n",
    "# show how lower starting battery affect the battery level in the end."
   ]
  },
  {
   "cell_type": "markdown",
   "metadata": {},
   "source": []
  }
 ],
 "metadata": {
  "interpreter": {
   "hash": "916dbcbb3f70747c44a77c7bcd40155683ae19c65e1c03b4aa3499c5328201f1"
  },
  "kernelspec": {
   "display_name": "Python 3.8.10 64-bit",
   "language": "python",
   "name": "python3"
  },
  "language_info": {
   "codemirror_mode": {
    "name": "ipython",
    "version": 3
   },
   "file_extension": ".py",
   "mimetype": "text/x-python",
   "name": "python",
   "nbconvert_exporter": "python",
   "pygments_lexer": "ipython3",
   "version": "3.9.7"
  },
  "orig_nbformat": 4
 },
 "nbformat": 4,
 "nbformat_minor": 2
}
