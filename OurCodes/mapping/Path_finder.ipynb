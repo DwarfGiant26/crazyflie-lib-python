{
 "cells": [
  {
   "cell_type": "code",
   "execution_count": 3,
   "source": [
    "import math\n",
    "from shapely.geometry import Point\n",
    "from shapely.geometry.polygon import Polygon\n",
    "\n",
    "drone_width = 12\n",
    "\n",
    "class node:\n",
    "    # (x,y) is the center of the building, z = height of the buildng\n",
    "    # w, h are x_length and y_length of the building\n",
    "    def __init__(self, tag, x, y, z, w, h):\n",
    "        self.tag = tag\n",
    "        self.x = x\n",
    "        self.y = y\n",
    "        self.z = z\n",
    "        self.w = w\n",
    "        self.h = h\n",
    "        self.approachable = []\n",
    "        \n",
    "    def add_node(self, n):\n",
    "        self.approachable.append(n)\n",
    "        \n",
    "\n",
    "def checkRange(node1, node2, node3):\n",
    "    rect = []\n",
    "    x_cord = [node3.x - 0.6*node3.w, node3.x + 0.6*node3.w]\n",
    "    y_cord = [node3.y - 0.6*node3.h, node3.y + 0.6*node3.h]\n",
    "    \n",
    "    for x in x_cord:\n",
    "        for y in y_cord:\n",
    "            rect.append((x,y))\n",
    "\n",
    "    if node1.x <= node2.x:\n",
    "        n1 = node1\n",
    "        n2 = node2\n",
    "    else:\n",
    "        n1 = node2\n",
    "        n2 = node1\n",
    "        \n",
    "    p1 = (n1.x - drone_width, n1.y - drone_width)\n",
    "    p2 = (n1.x + drone_width, n1.y + drone_width)\n",
    "    p3 = (n2.x - drone_width, n2.y - drone_width)\n",
    "    p4 = (n2.x + drone_width, n2.y + drone_width)\n",
    "    \n",
    "    poly1 = Polygon([p1, p2, p3, p4])\n",
    "    \n",
    "    poly2 = Polygon(rect)\n",
    "    \n",
    "    if poly1.intersects(poly2):\n",
    "        return True\n",
    "    \n",
    "    return False\n",
    "        \n",
    "\n",
    "def getDistance(node1, node2):\n",
    "    return math.sqrt( ((node1.x-node2.x)**2) + ((node1.y-node2.y)**2) )\n"
   ],
   "outputs": [],
   "metadata": {}
  },
  {
   "cell_type": "code",
   "execution_count": 5,
   "source": [
    "import csv\n",
    "\n",
    "file = open('BuildingPosition_noblanks.csv', 'r')\n",
    "data = csv.reader(file)\n",
    "\n",
    "node_list = []\n",
    "\n",
    "for line in data:\n",
    "    new_node = node(line[0], float(line[1]), float(line[2]), float(line[3]), float(line[4]), float(line[5]))\n",
    "    node_list.append(new_node)\n",
    "\n",
    "file.close()"
   ],
   "outputs": [
    {
     "output_type": "error",
     "ename": "ValueError",
     "evalue": "invalid literal for int() with base 10: '1.58'",
     "traceback": [
      "\u001b[0;31m---------------------------------------------------------------------------\u001b[0m",
      "\u001b[0;31mValueError\u001b[0m                                Traceback (most recent call last)",
      "\u001b[0;32m/tmp/ipykernel_19952/2486619704.py\u001b[0m in \u001b[0;36m<module>\u001b[0;34m\u001b[0m\n\u001b[1;32m      7\u001b[0m \u001b[0;34m\u001b[0m\u001b[0m\n\u001b[1;32m      8\u001b[0m \u001b[0;32mfor\u001b[0m \u001b[0mline\u001b[0m \u001b[0;32min\u001b[0m \u001b[0mdata\u001b[0m\u001b[0;34m:\u001b[0m\u001b[0;34m\u001b[0m\u001b[0;34m\u001b[0m\u001b[0m\n\u001b[0;32m----> 9\u001b[0;31m     \u001b[0mnew_node\u001b[0m \u001b[0;34m=\u001b[0m \u001b[0mnode\u001b[0m\u001b[0;34m(\u001b[0m\u001b[0mline\u001b[0m\u001b[0;34m[\u001b[0m\u001b[0;36m0\u001b[0m\u001b[0;34m]\u001b[0m\u001b[0;34m,\u001b[0m \u001b[0mint\u001b[0m\u001b[0;34m(\u001b[0m\u001b[0mline\u001b[0m\u001b[0;34m[\u001b[0m\u001b[0;36m1\u001b[0m\u001b[0;34m]\u001b[0m\u001b[0;34m)\u001b[0m\u001b[0;34m,\u001b[0m \u001b[0mint\u001b[0m\u001b[0;34m(\u001b[0m\u001b[0mline\u001b[0m\u001b[0;34m[\u001b[0m\u001b[0;36m2\u001b[0m\u001b[0;34m]\u001b[0m\u001b[0;34m)\u001b[0m\u001b[0;34m,\u001b[0m \u001b[0mint\u001b[0m\u001b[0;34m(\u001b[0m\u001b[0mline\u001b[0m\u001b[0;34m[\u001b[0m\u001b[0;36m3\u001b[0m\u001b[0;34m]\u001b[0m\u001b[0;34m)\u001b[0m\u001b[0;34m,\u001b[0m \u001b[0mint\u001b[0m\u001b[0;34m(\u001b[0m\u001b[0mline\u001b[0m\u001b[0;34m[\u001b[0m\u001b[0;36m4\u001b[0m\u001b[0;34m]\u001b[0m\u001b[0;34m)\u001b[0m\u001b[0;34m,\u001b[0m \u001b[0mint\u001b[0m\u001b[0;34m(\u001b[0m\u001b[0mline\u001b[0m\u001b[0;34m[\u001b[0m\u001b[0;36m5\u001b[0m\u001b[0;34m]\u001b[0m\u001b[0;34m)\u001b[0m\u001b[0;34m)\u001b[0m\u001b[0;34m\u001b[0m\u001b[0;34m\u001b[0m\u001b[0m\n\u001b[0m\u001b[1;32m     10\u001b[0m     \u001b[0mnode_list\u001b[0m\u001b[0;34m.\u001b[0m\u001b[0mappend\u001b[0m\u001b[0;34m(\u001b[0m\u001b[0mnew_node\u001b[0m\u001b[0;34m)\u001b[0m\u001b[0;34m\u001b[0m\u001b[0;34m\u001b[0m\u001b[0m\n\u001b[1;32m     11\u001b[0m \u001b[0;34m\u001b[0m\u001b[0m\n",
      "\u001b[0;31mValueError\u001b[0m: invalid literal for int() with base 10: '1.58'"
     ]
    }
   ],
   "metadata": {}
  },
  {
   "cell_type": "code",
   "execution_count": 184,
   "source": [
    "for n in node_list:\n",
    "    for n_1 in node_list:\n",
    "        \n",
    "        # Ignore if they are the same node\n",
    "        if n == n_1:\n",
    "            continue\n",
    "            \n",
    "        distance = getDistance(n, n_1)  \n",
    "        is_blocked = False\n",
    "        \n",
    "        for n_2 in node_list:\n",
    "            if n_2 == n_1 or n_2 == n:\n",
    "                continue\n",
    "             \n",
    "            is_blocked = checkRange(n, n_1, n_2)  \n",
    "            \n",
    "            if is_blocked:   \n",
    "                # If lower/equalto both buildings, it is not blocking\n",
    "                if n_2.z < n.z and n_2.z <= n_1.z:\n",
    "                    is_blocked = False\n",
    "                    \n",
    "                # If higher than both buildings, it is blocked\n",
    "                elif n_2.z > n.z and n_2.z > n_1.z:\n",
    "                    break;          \n",
    "                    \n",
    "                else:\n",
    "                    if n.z <= n_1.z:\n",
    "                        low = n\n",
    "                        high = n_1\n",
    "                    else:\n",
    "                        low = n_1\n",
    "                        high = n\n",
    "                                 \n",
    "                    # The mid-building's height is in between two other buildings\n",
    "                    poly = Polygon([(low.x, low.z), (high.x, low.z), (high.x, high.z)])\n",
    "                    \n",
    "                    if poly.contains(Point(n_2.x, n_2.z)):\n",
    "                        is_blocked = False\n",
    "                    else: \n",
    "                        break;\n",
    "\n",
    "        if not is_blocked:\n",
    "            n.add_node((n_1, round(distance,2)))\n",
    "    \n",
    "    n.approachable.sort(key = lambda x: x[0].tag)"
   ],
   "outputs": [],
   "metadata": {}
  },
  {
   "cell_type": "code",
   "execution_count": 185,
   "source": [
    "node_list.sort(key = lambda x: x.tag)\n",
    "writable_lists = []\n",
    "for source in node_list:\n",
    "    for dest in source.approachable:\n",
    "        writable_list = []\n",
    "        writable_list.append(('Source', source.tag))\n",
    "        writable_list.append(('Dest', dest[0].tag))\n",
    "        writable_list.append(('Dist', dest[1]))\n",
    "        writable_list.append(('X', source.x))\n",
    "        writable_list.append(('Y', source.y))\n",
    "        writable_list.append(('Z', source.z))\n",
    "        writable_lists.append(writable_list)\n",
    "    "
   ],
   "outputs": [],
   "metadata": {
    "scrolled": true
   }
  },
  {
   "cell_type": "code",
   "execution_count": 186,
   "source": [
    "with open('node_map.csv', 'w', newline='') as file:\n",
    "    fieldnames = ['Source', 'Dest', 'Dist', 'X', 'Y', 'Z']\n",
    "    writer = csv.DictWriter(file, fieldnames=fieldnames)\n",
    "    \n",
    "    writer.writeheader()\n",
    "    \n",
    "    for obj in writable_lists:\n",
    "        toDict = dict(obj)\n",
    "        writer.writerow(toDict)"
   ],
   "outputs": [],
   "metadata": {}
  },
  {
   "cell_type": "code",
   "execution_count": null,
   "source": [],
   "outputs": [],
   "metadata": {}
  }
 ],
 "metadata": {
  "kernelspec": {
   "name": "python3",
   "display_name": "Python 3.8.10 64-bit"
  },
  "language_info": {
   "codemirror_mode": {
    "name": "ipython",
    "version": 3
   },
   "file_extension": ".py",
   "mimetype": "text/x-python",
   "name": "python",
   "nbconvert_exporter": "python",
   "pygments_lexer": "ipython3",
   "version": "3.8.10"
  },
  "interpreter": {
   "hash": "916dbcbb3f70747c44a77c7bcd40155683ae19c65e1c03b4aa3499c5328201f1"
  }
 },
 "nbformat": 4,
 "nbformat_minor": 2
}